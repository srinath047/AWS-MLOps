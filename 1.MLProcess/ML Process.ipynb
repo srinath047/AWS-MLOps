{
 "cells": [
  {
   "cell_type": "markdown",
   "metadata": {},
   "source": [
    "# Business Case: Predicting Abalone Age\n",
    "\n",
    ">__NOTE:__ This Jupyter Notebook uses a Python3.6 kernel."
   ]
  },
  {
   "cell_type": "code",
   "execution_count": null,
   "metadata": {},
   "outputs": [],
   "source": [
    "import sys\n",
    "print(f\"Python Version: {sys.version}.\")"
   ]
  },
  {
   "cell_type": "code",
   "execution_count": null,
   "metadata": {},
   "outputs": [],
   "source": [
    "%%capture\n",
    "!{sys.executable} -m pip install -U pip matplotlib numpy pandas scikit-learn tensorflow"
   ]
  },
  {
   "cell_type": "code",
   "execution_count": null,
   "metadata": {},
   "outputs": [],
   "source": [
    "import warnings\n",
    "import matplotlib.pyplot as plt\n",
    "import numpy as np\n",
    "import pandas as pd\n",
    "\n",
    "from sklearn import preprocessing\n",
    "from sklearn.model_selection import train_test_split\n",
    "from sklearn.metrics import mean_squared_error\n",
    "\n",
    "import tensorflow as tf\n",
    "from tensorflow import keras\n",
    "from tensorflow.keras.models import Sequential\n",
    "from tensorflow.keras.layers import Dense\n",
    "\n",
    "class cleanPrint(keras.callbacks.Callback):\n",
    "    def on_epoch_end(self, epoch, logs):\n",
    "        if epoch+1 % 100 == 0:\n",
    "            print(\"!\")\n",
    "        else:\n",
    "            print(\"-\", end=\"\")\n",
    "\n",
    "%matplotlib inline\n",
    "warnings.filterwarnings(\"ignore\")"
   ]
  },
  {
   "cell_type": "markdown",
   "metadata": {},
   "source": [
    "---\n",
    "## Exploratory Data Analysis: Abalone Dataset"
   ]
  },
  {
   "cell_type": "code",
   "execution_count": null,
   "metadata": {},
   "outputs": [],
   "source": [
    "column_names = [\"sex\", \"length\", \"diameter\", \"height\", \"whole_weight\", \"shucked_weight\", \"viscera_weight\", \"shell_weight\", \"rings\"]\n",
    "abalone_data = pd.read_csv(\"http://archive.ics.uci.edu/ml/machine-learning-databases/abalone/abalone.data\", names=column_names)\n",
    "abalone_data.head()"
   ]
  },
  {
   "cell_type": "code",
   "execution_count": null,
   "metadata": {},
   "outputs": [],
   "source": [
    "abalone_data.describe()"
   ]
  },
  {
   "cell_type": "markdown",
   "metadata": {},
   "source": [
    "---\n",
    "\n",
    "## Data Preparation"
   ]
  },
  {
   "cell_type": "code",
   "execution_count": null,
   "metadata": {},
   "outputs": [],
   "source": [
    "data = abalone_data[[\"rings\", \"sex\", \"length\", \"diameter\", \"height\", \"whole_weight\", \"shucked_weight\", \"viscera_weight\", \"shell_weight\"]]\n",
    "data = pd.get_dummies(data)\n",
    "y = data.rings.values\n",
    "del data[\"rings\"]\n",
    "X = data.values.astype(np.float)\n",
    "X = preprocessing.normalize(X)\n",
    "training_features, testing_features, training_labels, testing_labels = train_test_split(X, y, test_size=0.2, random_state=42)"
   ]
  },
  {
   "cell_type": "markdown",
   "metadata": {},
   "source": [
    "---\n",
    "## Model Training"
   ]
  },
  {
   "cell_type": "code",
   "execution_count": null,
   "metadata": {},
   "outputs": [],
   "source": [
    "network_layers = [\n",
    "    Dense(256, activation='relu', kernel_initializer=\"normal\", input_dim=10),\n",
    "    Dense(128, activation='relu'),\n",
    "    Dense(64, activation='relu'),\n",
    "    Dense(32, activation='relu'),\n",
    "    Dense(1, activation='linear')\n",
    "]\n",
    "\n",
    "model = Sequential(network_layers)\n",
    "model.compile(optimizer=\"adam\", loss=\"mse\", metrics=[\"mae\", \"accuracy\"])\n",
    "model.summary()        "
   ]
  },
  {
   "cell_type": "code",
   "execution_count": null,
   "metadata": {},
   "outputs": [],
   "source": [
    "training_results = model.fit(training_features, training_labels, validation_data=(testing_features, testing_labels), batch_size=32, epochs=2000, shuffle=True, verbose=0, callbacks=[cleanPrint()])"
   ]
  },
  {
   "cell_type": "markdown",
   "metadata": {},
   "source": [
    "---\n",
    "## Model Evaluation (Before Optimization)\n",
    "\n",
    "### Plot Model Evaluaiton Metrics (RMSE)"
   ]
  },
  {
   "cell_type": "code",
   "execution_count": null,
   "metadata": {},
   "outputs": [],
   "source": [
    "fig, ax = plt.subplots(figsize=(15, 10))\n",
    "ax.plot(testing_labels, model.predict(testing_features), \"ob\")\n",
    "ax.plot([0, 25], [0, 25], \"-r\")\n",
    "ax.text(8, 1, f\"RMSE = {mean_squared_error(testing_labels, model.predict(testing_features), squared=False)}\", color=\"r\", fontsize=14, weight=\"bold\")\n",
    "plt.title(\"Abalone Model Evaluation\", fontweight=\"bold\", fontsize=12)\n",
    "plt.xlabel(\"Actual 'Rings'\", fontweight=\"bold\", fontsize=12)\n",
    "plt.ylabel(\"Predicted 'Rings'\", fontweight=\"bold\", fontsize=12)\n",
    "plt.legend([\"Predictions\", \"Regression Line\"], loc=\"upper left\", prop={\"weight\": \"bold\"})\n",
    "plt.show()"
   ]
  },
  {
   "cell_type": "markdown",
   "metadata": {},
   "source": [
    "### Plot additional performance summaries\n",
    "\n",
    "#### Training vs. Testing Loss"
   ]
  },
  {
   "cell_type": "code",
   "execution_count": null,
   "metadata": {},
   "outputs": [],
   "source": [
    "plt.rcParams[\"figure.figsize\"] = (15, 10)\n",
    "plt.plot(training_results.history[\"loss\"])\n",
    "plt.plot(training_results.history[\"val_loss\"])\n",
    "plt.title(\"Training vs. Testing Loss\", fontweight=\"bold\", fontsize=14)\n",
    "plt.ylabel(\"Loss\", fontweight=\"bold\", fontsize=14)\n",
    "plt.xlabel(\"Epochs\", fontweight=\"bold\", fontsize=14)\n",
    "plt.legend([\"Training Loss\", \"Testing Loss\"], loc=\"upper right\", prop={\"weight\": \"bold\"})\n",
    "plt.grid()\n",
    "plt.show()"
   ]
  },
  {
   "cell_type": "code",
   "execution_count": null,
   "metadata": {},
   "outputs": [],
   "source": [
    "plt.rcParams[\"figure.figsize\"] = (15, 10)\n",
    "plt.plot(training_results.history[\"mae\"])\n",
    "plt.plot(training_results.history[\"val_mae\"])\n",
    "plt.title(\"Training vs. Testing Mean Absolute Error\", fontweight=\"bold\", fontsize=14)\n",
    "plt.ylabel(\"mae\", fontweight=\"bold\", fontsize=14)\n",
    "plt.xlabel(\"Epochs\", fontweight=\"bold\", fontsize=14)\n",
    "plt.legend([\"Training MAE\", \"Testing MAE\"], loc=\"upper right\", prop={\"weight\": \"bold\"})\n",
    "plt.grid()\n",
    "plt.show()"
   ]
  },
  {
   "cell_type": "markdown",
   "metadata": {},
   "source": [
    "---\n",
    "\n",
    "## Model Evaluation (After Optimization)"
   ]
  },
  {
   "cell_type": "code",
   "execution_count": null,
   "metadata": {},
   "outputs": [],
   "source": [
    "network_layers = [\n",
    "    Dense(64, activation='relu', kernel_initializer=\"normal\", input_dim=10),\n",
    "    Dense(64, activation='relu'),\n",
    "    Dense(1, activation='linear')\n",
    "]\n",
    "\n",
    "model = Sequential(network_layers)\n",
    "model.compile(optimizer=\"adam\", loss=\"mse\", metrics=[\"mae\", \"accuracy\"])\n",
    "model.summary()\n",
    "training_results = model.fit(training_features, training_labels, validation_data=(testing_features, testing_labels), batch_size=8, epochs=200, shuffle=True, verbose=1)\n"
   ]
  },
  {
   "cell_type": "code",
   "execution_count": null,
   "metadata": {},
   "outputs": [],
   "source": [
    "fig, ax = plt.subplots(figsize=(15, 10))\n",
    "ax.plot(testing_labels, model.predict(testing_features), \"ob\")\n",
    "ax.plot([0, 25], [0, 25], \"-r\")\n",
    "ax.text(8, 1, f\"RMSE = {mean_squared_error(testing_labels, model.predict(testing_features), squared=False)}\", color=\"r\", fontsize=14, weight=\"bold\")\n",
    "plt.grid()\n",
    "plt.title(\"Abalone Model Evaluation\", fontweight=\"bold\", fontsize=12)\n",
    "plt.xlabel(\"Actual 'Rings'\", fontweight=\"bold\", fontsize=12)\n",
    "plt.ylabel(\"Predicted 'Rings'\", fontweight=\"bold\", fontsize=12)\n",
    "plt.legend([\"Predictions\", \"Regression Line\"], loc=\"upper left\", prop={\"weight\": \"bold\"})\n",
    "plt.show()"
   ]
  },
  {
   "cell_type": "code",
   "execution_count": null,
   "metadata": {},
   "outputs": [],
   "source": [
    "plt.rcParams[\"figure.figsize\"] = (15, 10)\n",
    "plt.plot(training_results.history[\"loss\"])\n",
    "plt.plot(training_results.history[\"val_loss\"])\n",
    "plt.title(\"Training vs. Testing Loss\", fontweight=\"bold\", fontsize=14)\n",
    "plt.ylabel(\"Loss\", fontweight=\"bold\", fontsize=14)\n",
    "plt.xlabel(\"Epochs\", fontweight=\"bold\", fontsize=14)\n",
    "plt.legend([\"Training Loss\", \"Testing Loss\"], loc=\"upper right\", prop={\"weight\": \"bold\"})\n",
    "plt.grid()\n",
    "plt.show()"
   ]
  },
  {
   "cell_type": "code",
   "execution_count": null,
   "metadata": {},
   "outputs": [],
   "source": [
    "plt.rcParams[\"figure.figsize\"] = (15, 10)\n",
    "plt.plot(training_results.history[\"mae\"])\n",
    "plt.plot(training_results.history[\"val_mae\"])\n",
    "plt.title(\"Training vs. Testing Mean Absolute Error\", fontweight=\"bold\", fontsize=14)\n",
    "plt.ylabel(\"mae\", fontweight=\"bold\", fontsize=14)\n",
    "plt.xlabel(\"Epochs\", fontweight=\"bold\", fontsize=14)\n",
    "plt.legend([\"Training MAE\", \"Testing MAE\"], loc=\"upper right\", prop={\"weight\": \"bold\"})\n",
    "plt.grid()\n",
    "plt.show()"
   ]
  }
 ],
 "metadata": {
  "instance_type": "ml.t3.medium",
  "interpreter": {
   "hash": "91cd747e2918a8daa704f3bc8e42b880a4d8049712a274f2deb0fa8e8f710896"
  },
  "kernelspec": {
   "display_name": "Python 3.8.10 64-bit ('3.8.10': pyenv)",
   "name": "python3"
  },
  "language_info": {
   "codemirror_mode": {
    "name": "ipython",
    "version": 3
   },
   "file_extension": ".py",
   "mimetype": "text/x-python",
   "name": "python",
   "nbconvert_exporter": "python",
   "pygments_lexer": "ipython3",
   "version": "3.8.10"
  }
 },
 "nbformat": 4,
 "nbformat_minor": 4
}
