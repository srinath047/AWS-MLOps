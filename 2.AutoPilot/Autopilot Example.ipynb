{
 "cells": [
  {
   "cell_type": "markdown",
   "metadata": {},
   "source": [
    "# Autopilot Example\n",
    ">__NOTE:__ Make sure to use the Pyton 3 (Data Science) Jupyter Kernel."
   ]
  },
  {
   "cell_type": "code",
   "execution_count": null,
   "metadata": {},
   "outputs": [],
   "source": [
    "import sagemaker\n",
    "import pandas as pd\n",
    "\n",
    "role = sagemaker.get_execution_role()\n",
    "session = sagemaker.session.Session()"
   ]
  },
  {
   "cell_type": "markdown",
   "metadata": {},
   "source": [
    "## Download Data"
   ]
  },
  {
   "cell_type": "code",
   "execution_count": null,
   "metadata": {},
   "outputs": [],
   "source": [
    "column_names = [\"sex\", \"length\", \"diameter\", \"height\", \"whole_weight\", \"shucked_weight\", \"viscera_weight\", \"shell_weight\", \"rings\"]\n",
    "abalone_data = pd.read_csv(\"http://archive.ics.uci.edu/ml/machine-learning-databases/abalone/abalone.data\", names=column_names)\n",
    "abalone_data.to_csv(\"abalone_with_headers.csv\", index=False)"
   ]
  },
  {
   "cell_type": "markdown",
   "metadata": {},
   "source": [
    "## Create the Autopilot Experiment"
   ]
  },
  {
   "cell_type": "code",
   "execution_count": null,
   "metadata": {},
   "outputs": [],
   "source": [
    "from sagemaker.automl.automl import AutoML\n",
    "automl_job = AutoML(\n",
    "    role=role,\n",
    "    target_attribute_name=\"rings\",\n",
    "    output_path=f\"s3://{session.default_bucket()}/abalone-v1/output\",\n",
    "    base_job_name=\"abalone\",\n",
    "    sagemaker_session=session,\n",
    "    max_candidates=250\n",
    ")\n"
   ]
  },
  {
   "cell_type": "markdown",
   "metadata": {},
   "source": [
    "## Start the Autopilot Experiment"
   ]
  },
  {
   "cell_type": "code",
   "execution_count": null,
   "metadata": {},
   "outputs": [],
   "source": [
    "automl_job.fit(inputs=session.upload_data(\"abalone_with_headers.csv\", bucket=session.default_bucket(), key_prefix=\"abalone-v1/input\"), wait=False)"
   ]
  },
  {
   "cell_type": "markdown",
   "metadata": {},
   "source": [
    "## Analyze the Autopilot Experiment\n",
    "\n",
    ">__NOTE:__ Wait until the Autopilot Experiment has completed before proceeding."
   ]
  },
  {
   "cell_type": "code",
   "execution_count": null,
   "metadata": {},
   "outputs": [],
   "source": [
    "from sagemaker.analytics import ExperimentAnalytics\n",
    "automl_experiment = ExperimentAnalytics(\n",
    "    sagemaker_session=session,\n",
    "    experiment_name=\"{}-aws-auto-ml-job\".format(automl_job.describe_auto_ml_job()[\"AutoMLJobName\"])\n",
    ")"
   ]
  },
  {
   "cell_type": "code",
   "execution_count": null,
   "metadata": {},
   "outputs": [],
   "source": [
    "df = automl_experiment.dataframe()\n",
    "df = df.filter([\"TrialComponentName\",\"validation:accuracy - Last\", \"train:accuracy - Last\"])\n",
    "df = df.sort_values(by=\"validation:accuracy - Last\", ascending=False)[:5]\n",
    "df"
   ]
  },
  {
   "cell_type": "markdown",
   "metadata": {},
   "source": [
    "## Plot Trial Comparison"
   ]
  },
  {
   "cell_type": "code",
   "execution_count": null,
   "metadata": {},
   "outputs": [],
   "source": [
    "import matplotlib.pyplot as plt\n",
    "%matplotlib inline\n",
    "\n",
    "legend_colors = [\"r\", \"b\", \"g\", \"c\", \"m\"]\n",
    "ig, ax = plt.subplots(figsize=(15, 10))\n",
    "legend = []\n",
    "i = 0\n",
    "for column, value in df.iterrows():\n",
    "    ax.plot(value[\"train:accuracy - Last\"], value[\"validation:accuracy - Last\"], \"o\", c=legend_colors[i], label=value.TrialComponentName)\n",
    "    i +=1\n",
    "plt.title(\"Training vs.Testing Accuracy\", fontweight=\"bold\", fontsize=14)\n",
    "plt.ylabel(\"validation:accuracy - Last\", fontweight=\"bold\", fontsize=14)\n",
    "plt.xlabel(\"train:accuracy - Last\", fontweight=\"bold\", fontsize=14)\n",
    "plt.grid()\n",
    "plt.legend()\n",
    "plt.show()"
   ]
  },
  {
   "cell_type": "markdown",
   "metadata": {},
   "source": [
    "## Best Candidate Overview\n",
    "\n",
    "### Best Candidate Job"
   ]
  },
  {
   "cell_type": "code",
   "execution_count": null,
   "metadata": {},
   "outputs": [],
   "source": [
    "automl_job.best_candidate()[\"CandidateName\"]"
   ]
  },
  {
   "cell_type": "markdown",
   "metadata": {},
   "source": [
    "### Best Candidate Evaluation Metrics"
   ]
  },
  {
   "cell_type": "code",
   "execution_count": null,
   "metadata": {},
   "outputs": [],
   "source": [
    "automl_job.best_candidate()[\"FinalAutoMLJobObjectiveMetric\"]"
   ]
  },
  {
   "cell_type": "markdown",
   "metadata": {},
   "source": [
    "## Candidate Artifacts\n",
    "\n",
    "### Data Exploration Notebook "
   ]
  },
  {
   "cell_type": "code",
   "execution_count": null,
   "metadata": {},
   "outputs": [],
   "source": [
    "automl_job.describe_auto_ml_job()[\"AutoMLJobArtifacts\"][\"DataExplorationNotebookLocation\"]"
   ]
  },
  {
   "cell_type": "markdown",
   "metadata": {},
   "source": [
    "### Candidate Definition Notebook"
   ]
  },
  {
   "cell_type": "code",
   "execution_count": null,
   "metadata": {},
   "outputs": [],
   "source": [
    "automl_job.describe_auto_ml_job()[\"AutoMLJobArtifacts\"][\"CandidateDefinitionNotebookLocation\"]"
   ]
  },
  {
   "cell_type": "markdown",
   "metadata": {},
   "source": [
    "### Explainability Report"
   ]
  },
  {
   "cell_type": "code",
   "execution_count": null,
   "metadata": {},
   "outputs": [],
   "source": [
    "automl_job.describe_auto_ml_job()[\"BestCandidate\"][\"CandidateProperties\"][\"CandidateArtifactLocations\"][\"Explainability\"]"
   ]
  },
  {
   "cell_type": "markdown",
   "metadata": {},
   "source": [
    "## Deploy the Best Candidate\n",
    "\n",
    ">__NOTE:__ Deploying the Best Model will incur AWS usage costs."
   ]
  },
  {
   "cell_type": "code",
   "execution_count": null,
   "metadata": {},
   "outputs": [],
   "source": [
    "automl_job.deploy(\n",
    "    initial_instance_count=1,\n",
    "    instance_type=\"ml.m5.xlarge\",\n",
    "    candidate=automl_job.best_candidate(),\n",
    "    sagemaker_session=session,\n",
    "    endpoint_name=\"-\".join(automl_job.best_candidate()[\"CandidateName\"].split(\"-\")[0:7])\n",
    ")"
   ]
  },
  {
   "cell_type": "markdown",
   "metadata": {},
   "source": [
    "## Cleanup\n",
    "\n",
    "### Delete Hoasted Endpoint"
   ]
  },
  {
   "cell_type": "code",
   "execution_count": null,
   "metadata": {},
   "outputs": [],
   "source": [
    "!aws sagemaker delete-endpoint --endpoint-name {\"-\".join(automl_job.best_candidate()[\"CandidateName\"].split(\"-\")[0:7])}"
   ]
  },
  {
   "cell_type": "markdown",
   "metadata": {},
   "source": [
    "### Delete the Endpoint Configuration"
   ]
  },
  {
   "cell_type": "code",
   "execution_count": null,
   "metadata": {},
   "outputs": [],
   "source": [
    "!aws sagemaker delete-endpoint-config --endpoint-config-name {\"-\".join(automl_job.best_candidate()[\"CandidateName\"].split(\"-\")[0:7])}"
   ]
  }
 ],
 "metadata": {
  "instance_type": "ml.t3.medium",
  "kernelspec": {
   "display_name": "Python 3 (Data Science)",
   "language": "python",
   "name": "python3__SAGEMAKER_INTERNAL__arn:aws:sagemaker:us-west-2:236514542706:image/datascience-1.0"
  },
  "language_info": {
   "codemirror_mode": {
    "name": "ipython",
    "version": 3
   },
   "file_extension": ".py",
   "mimetype": "text/x-python",
   "name": "python",
   "nbconvert_exporter": "python",
   "pygments_lexer": "ipython3",
   "version": "3.7.10"
  }
 },
 "nbformat": 4,
 "nbformat_minor": 4
}
