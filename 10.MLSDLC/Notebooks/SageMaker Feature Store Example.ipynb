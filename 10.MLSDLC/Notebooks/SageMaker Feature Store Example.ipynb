{
 "cells": [
  {
   "cell_type": "markdown",
   "metadata": {},
   "source": [
    "# SageMaker Feature Store Example\n",
    "\n",
    ">__NOTE:__ This Notebook uses the _Python 3 (Data Science)_ Kernel\n",
    "\n",
    "## Setup"
   ]
  },
  {
   "cell_type": "code",
   "execution_count": null,
   "metadata": {},
   "outputs": [],
   "source": [
    "import warnings\n",
    "import time\n",
    "import sagemaker\n",
    "import boto3\n",
    "import numpy as np\n",
    "import pandas as pd\n",
    "from time import gmtime, strftime\n",
    "from sklearn import preprocessing\n",
    "from sagemaker.feature_store.feature_group import FeatureGroup\n",
    "\n",
    "warnings.filterwarnings(\"ignore\")\n",
    "\n",
    "role = sagemaker.get_execution_role()\n",
    "sagemaker_session = sagemaker.Session()\n",
    "region_name = sagemaker_session.boto_region_name\n",
    "data_bucket = f\"\"\"{boto3.client(\"ssm\", region_name=region_name).get_parameter(Name=\"DataBucket\")[\"Parameter\"][\"Value\"]}\"\"\"\n",
    "prefix = \"sagemaker-featurestore\"\n",
    "\n",
    "def check_feature_group_status(feature_group):\n",
    "    status = feature_group.describe().get(\"FeatureGroupStatus\")\n",
    "    while status == \"Creating\":\n",
    "        print(\"Waiting for Feature Group to be Created\")\n",
    "        time.sleep(5)\n",
    "        status = feature_group.describe().get(\"FeatureGroupStatus\")\n",
    "    print(f\"FeatureGroup {feature_group.name} successfully created.\")\n",
    "\n",
    "def check_data_availability(feature_group, bucket):\n",
    "    s3_client = sagemaker_session.boto_session.client('s3', region_name=region_name)\n",
    "    offline_store_contents = None\n",
    "    feature_group_s3_uri = feature_group.describe().get(\"OfflineStoreConfig\").get(\"S3StorageConfig\").get(\"ResolvedOutputS3Uri\")\n",
    "    feature_group_s3_prefix = feature_group_s3_uri.replace(f\"s3://{bucket}/\", \"\")\n",
    "    while offline_store_contents is None:\n",
    "        objects_in_bucket = s3_client.list_objects(Bucket=bucket, Prefix=feature_group_s3_prefix)\n",
    "        if ('Contents' in objects_in_bucket and len(objects_in_bucket['Contents']) > 1):\n",
    "            offline_store_contents = objects_in_bucket['Contents']\n",
    "        else:\n",
    "            print('Waiting for data into the offline store...\\n')\n",
    "            time.sleep(60)\n",
    "    print('Data available.')    "
   ]
  },
  {
   "cell_type": "markdown",
   "metadata": {},
   "source": [
    "---\n",
    "\n",
    "## Data Preparation\n",
    "\n",
    "### Import Python Libraries and Helper Funcitons"
   ]
  },
  {
   "cell_type": "markdown",
   "metadata": {},
   "source": [
    "### Download the Data"
   ]
  },
  {
   "cell_type": "code",
   "execution_count": null,
   "metadata": {},
   "outputs": [],
   "source": [
    "column_names = [\"sex\", \"length\", \"diameter\", \"height\", \"whole_weight\", \"shucked_weight\", \"viscera_weight\", \"shell_weight\", \"rings\"]\n",
    "abalone_data = pd.read_csv(\"http://archive.ics.uci.edu/ml/machine-learning-databases/abalone/abalone.data\", names=column_names)\n",
    "abalone_data.head()"
   ]
  },
  {
   "cell_type": "markdown",
   "metadata": {},
   "source": [
    "### Data Processing and Feature Engineering"
   ]
  },
  {
   "cell_type": "code",
   "execution_count": null,
   "metadata": {},
   "outputs": [],
   "source": [
    "data = abalone_data[[\"rings\", \"sex\", \"length\", \"diameter\", \"height\", \"whole_weight\", \"shucked_weight\", \"viscera_weight\", \"shell_weight\"]]\n",
    "processed_data = pd.get_dummies(data)\n",
    "processed_data.head()"
   ]
  },
  {
   "cell_type": "markdown",
   "metadata": {},
   "source": [
    "---\n",
    "\n",
    "## SageMaker Feature Store\n",
    "\n",
    "### Define the Feature Group"
   ]
  },
  {
   "cell_type": "code",
   "execution_count": null,
   "metadata": {},
   "outputs": [],
   "source": [
    "fg_name = f\"abalone-fg-{strftime('%d-%H-%M-%S', gmtime())}\"\n",
    "fg = FeatureGroup(name=fg_name, sagemaker_session=sagemaker_session)"
   ]
  },
  {
   "cell_type": "markdown",
   "metadata": {},
   "source": [
    "### Create Ingestion Timestamp Identifier (Event Time Feature)"
   ]
  },
  {
   "cell_type": "code",
   "execution_count": null,
   "metadata": {},
   "outputs": [],
   "source": [
    "time_stamp = int(round(time.time()))\n",
    "processed_data[\"TimeStamp\"] = pd.Series([time_stamp] * len(processed_data), dtype=\"float64\")"
   ]
  },
  {
   "cell_type": "markdown",
   "metadata": {},
   "source": [
    "### Create Feature Definition Schema"
   ]
  },
  {
   "cell_type": "code",
   "execution_count": null,
   "metadata": {},
   "outputs": [],
   "source": [
    "fg.load_feature_definitions(data_frame=processed_data)"
   ]
  },
  {
   "cell_type": "markdown",
   "metadata": {},
   "source": [
    "### Create the Feature Group"
   ]
  },
  {
   "cell_type": "code",
   "execution_count": null,
   "metadata": {},
   "outputs": [],
   "source": [
    "fg.create(\n",
    "    s3_uri=f\"s3://{data_bucket}/{prefix}\",\n",
    "    record_identifier_name=\"rings\",\n",
    "    event_time_feature_name=\"TimeStamp\",\n",
    "    role_arn=role,\n",
    "    enable_online_store=False\n",
    ")\n",
    "\n",
    "check_feature_group_status(fg)"
   ]
  },
  {
   "cell_type": "markdown",
   "metadata": {},
   "source": [
    "### Ingest Data into the Feature Group"
   ]
  },
  {
   "cell_type": "code",
   "execution_count": null,
   "metadata": {},
   "outputs": [],
   "source": [
    "fg.ingest(data_frame=processed_data, max_workers=5, wait=True)\n",
    "\n",
    "check_data_availability(fg, data_bucket)"
   ]
  },
  {
   "cell_type": "markdown",
   "metadata": {},
   "source": [
    "### Describe the Feature Group\n",
    "\n",
    ">__NOTE:__ Make sure to capture the name of the Feature Group _(FeatureGroupName)_, as we will be using this later."
   ]
  },
  {
   "cell_type": "code",
   "execution_count": null,
   "metadata": {},
   "outputs": [],
   "source": [
    "fg.describe()"
   ]
  }
 ],
 "metadata": {
  "instance_type": "ml.t3.medium",
  "kernelspec": {
   "display_name": "Python 3 (Data Science)",
   "language": "python",
   "name": "python3__SAGEMAKER_INTERNAL__arn:aws:sagemaker:us-west-2:236514542706:image/datascience-1.0"
  },
  "language_info": {
   "codemirror_mode": {
    "name": "ipython",
    "version": 3
   },
   "file_extension": ".py",
   "mimetype": "text/x-python",
   "name": "python",
   "nbconvert_exporter": "python",
   "pygments_lexer": "ipython3",
   "version": "3.7.10"
  }
 },
 "nbformat": 4,
 "nbformat_minor": 4
}
